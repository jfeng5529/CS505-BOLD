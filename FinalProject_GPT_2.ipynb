{
 "cells": [
  {
   "cell_type": "code",
   "execution_count": 21,
   "metadata": {
    "colab": {
     "base_uri": "https://localhost:8080/"
    },
    "id": "GiFY8fwZlOkZ",
    "outputId": "e62778a6-c2bd-48ae-8a19-5d30d00c9b84"
   },
   "outputs": [
    {
     "name": "stdout",
     "output_type": "stream",
     "text": [
      "Defaulting to user installation because normal site-packages is not writeable\n",
      "Requirement already satisfied: transformers in /usr4/cs505/gskang/.local/lib/python3.8/site-packages (4.17.0)\n",
      "Requirement already satisfied: google-api-python-client in /share/pkg.7/python3/3.8.10/install/lib/python3.8/site-packages (2.3.0)\n",
      "Requirement already satisfied: packaging>=20.0 in /share/pkg.7/python3/3.8.10/install/lib/python3.8/site-packages (from transformers) (20.9)\n",
      "Requirement already satisfied: requests in /share/pkg.7/python3/3.8.10/install/lib/python3.8/site-packages (from transformers) (2.25.1)\n",
      "Requirement already satisfied: huggingface-hub<1.0,>=0.1.0 in /usr4/cs505/gskang/.local/lib/python3.8/site-packages (from transformers) (0.4.0)\n",
      "Requirement already satisfied: filelock in /share/pkg.7/python3/3.8.10/install/lib/python3.8/site-packages (from transformers) (3.0.12)\n",
      "Requirement already satisfied: pyyaml>=5.1 in /share/pkg.7/python3/3.8.10/install/lib/python3.8/site-packages (from transformers) (5.4.1)\n",
      "Requirement already satisfied: sacremoses in /usr4/cs505/gskang/.local/lib/python3.8/site-packages (from transformers) (0.0.49)\n",
      "Requirement already satisfied: tqdm>=4.27 in /share/pkg.7/python3/3.8.10/install/lib/python3.8/site-packages (from transformers) (4.60.0)\n",
      "Requirement already satisfied: regex!=2019.12.17 in /share/pkg.7/python3/3.8.10/install/lib/python3.8/site-packages (from transformers) (2021.4.4)\n",
      "Requirement already satisfied: numpy>=1.17 in /share/pkg.7/python3/3.8.10/install/lib/python3.8/site-packages/numpy-1.19.5-py3.8-linux-x86_64.egg (from transformers) (1.19.5)\n",
      "Requirement already satisfied: tokenizers!=0.11.3,>=0.11.1 in /usr4/cs505/gskang/.local/lib/python3.8/site-packages (from transformers) (0.11.6)\n",
      "Requirement already satisfied: typing-extensions>=3.7.4.3 in /share/pkg.7/python3/3.8.10/install/lib/python3.8/site-packages (from huggingface-hub<1.0,>=0.1.0->transformers) (3.10.0.0)\n",
      "Requirement already satisfied: pyparsing>=2.0.2 in /share/pkg.7/python3/3.8.10/install/lib/python3.8/site-packages (from packaging>=20.0->transformers) (2.4.7)\n",
      "Requirement already satisfied: uritemplate<4dev,>=3.0.0 in /share/pkg.7/python3/3.8.10/install/lib/python3.8/site-packages (from google-api-python-client) (3.0.1)\n",
      "Requirement already satisfied: google-auth<2dev,>=1.16.0 in /share/pkg.7/python3/3.8.10/install/lib/python3.8/site-packages (from google-api-python-client) (1.30.0)\n",
      "Requirement already satisfied: six<2dev,>=1.13.0 in /share/pkg.7/python3/3.8.10/install/lib/python3.8/site-packages (from google-api-python-client) (1.15.0)\n",
      "Requirement already satisfied: httplib2<1dev,>=0.15.0 in /share/pkg.7/python3/3.8.10/install/lib/python3.8/site-packages (from google-api-python-client) (0.19.1)\n",
      "Requirement already satisfied: google-auth-httplib2>=0.1.0 in /share/pkg.7/python3/3.8.10/install/lib/python3.8/site-packages (from google-api-python-client) (0.1.0)\n",
      "Requirement already satisfied: google-api-core<2dev,>=1.21.0 in /share/pkg.7/python3/3.8.10/install/lib/python3.8/site-packages (from google-api-python-client) (1.26.3)\n",
      "Requirement already satisfied: protobuf>=3.12.0 in /share/pkg.7/python3/3.8.10/install/lib/python3.8/site-packages (from google-api-core<2dev,>=1.21.0->google-api-python-client) (3.15.8)\n",
      "Requirement already satisfied: pytz in /share/pkg.7/python3/3.8.10/install/lib/python3.8/site-packages (from google-api-core<2dev,>=1.21.0->google-api-python-client) (2021.1)\n",
      "Requirement already satisfied: setuptools>=40.3.0 in /share/pkg.7/python3/3.8.10/install/lib/python3.8/site-packages (from google-api-core<2dev,>=1.21.0->google-api-python-client) (56.0.0)\n",
      "Requirement already satisfied: googleapis-common-protos<2.0dev,>=1.6.0 in /share/pkg.7/python3/3.8.10/install/lib/python3.8/site-packages (from google-api-core<2dev,>=1.21.0->google-api-python-client) (1.53.0)\n",
      "Requirement already satisfied: pyasn1-modules>=0.2.1 in /share/pkg.7/python3/3.8.10/install/lib/python3.8/site-packages (from google-auth<2dev,>=1.16.0->google-api-python-client) (0.2.8)\n",
      "Requirement already satisfied: cachetools<5.0,>=2.0.0 in /share/pkg.7/python3/3.8.10/install/lib/python3.8/site-packages (from google-auth<2dev,>=1.16.0->google-api-python-client) (4.2.2)\n",
      "Requirement already satisfied: rsa<5,>=3.1.4 in /share/pkg.7/python3/3.8.10/install/lib/python3.8/site-packages (from google-auth<2dev,>=1.16.0->google-api-python-client) (4.7.2)\n",
      "Requirement already satisfied: pyasn1<0.5.0,>=0.4.6 in /share/pkg.7/python3/3.8.10/install/lib/python3.8/site-packages (from pyasn1-modules>=0.2.1->google-auth<2dev,>=1.16.0->google-api-python-client) (0.4.8)\n",
      "Requirement already satisfied: chardet<5,>=3.0.2 in /share/pkg.7/python3/3.8.10/install/lib/python3.8/site-packages (from requests->transformers) (4.0.0)\n",
      "Requirement already satisfied: idna<3,>=2.5 in /share/pkg.7/python3/3.8.10/install/lib/python3.8/site-packages (from requests->transformers) (2.10)\n",
      "Requirement already satisfied: certifi>=2017.4.17 in /share/pkg.7/python3/3.8.10/install/lib/python3.8/site-packages (from requests->transformers) (2020.12.5)\n",
      "Requirement already satisfied: urllib3<1.27,>=1.21.1 in /share/pkg.7/python3/3.8.10/install/lib/python3.8/site-packages (from requests->transformers) (1.26.4)\n",
      "Requirement already satisfied: click in /share/pkg.7/python3/3.8.10/install/lib/python3.8/site-packages (from sacremoses->transformers) (7.1.2)\n",
      "Requirement already satisfied: joblib in /share/pkg.7/python3/3.8.10/install/lib/python3.8/site-packages (from sacremoses->transformers) (1.0.1)\n",
      "\u001b[33mWARNING: You are using pip version 21.1.1; however, version 22.0.4 is available.\n",
      "You should consider upgrading via the '/share/pkg.7/python3/3.8.10/install/bin/python3.8 -m pip install --upgrade pip' command.\u001b[0m\n"
     ]
    }
   ],
   "source": [
    "# Add necessary imports\n",
    "!pip install transformers google-api-python-client\n",
    "\n",
    "from googleapiclient import discovery\n",
    "import json\n",
    "\n",
    "import pandas as pd\n",
    "import seaborn as sns\n",
    "import numpy as np\n",
    "import random\n",
    "import pickle\n",
    "import time\n",
    "\n",
    "import torch\n",
    "from torch.utils.data import Dataset, DataLoader, random_split, RandomSampler, SequentialSampler\n",
    "torch.manual_seed(42)\n",
    "\n",
    "from transformers import GPT2LMHeadModel,  GPT2Tokenizer, GPT2Config\n",
    "from transformers import AdamW, get_linear_schedule_with_warmup"
   ]
  },
  {
   "cell_type": "code",
   "execution_count": 2,
   "metadata": {
    "id": "DfkRCvKMowRB"
   },
   "outputs": [],
   "source": [
    "drive_file_path = \"./\"\n",
    "\n",
    "\n",
    "# Helper function to load a pickle format file\n",
    "def open_pickle_path(filename):\n",
    "    with open(drive_file_path + filename , 'rb') as pickle_file:\n",
    "        content = pickle.load(pickle_file)\n",
    "        return content\n"
   ]
  },
  {
   "cell_type": "code",
   "execution_count": 3,
   "metadata": {
    "id": "F8v28oZ8Wwt4"
   },
   "outputs": [],
   "source": [
    "# Load Bold dataset prompts: profession, gender, race, religion, and political ideology\n",
    "\n",
    "# Dictionary format where key is the subgroup and the value is a list of sentences \n",
    "gender_dict = open_pickle_path(\"gend.p\")\n",
    "political_dict = open_pickle_path(\"poli.p\")\n",
    "profession_dict = open_pickle_path(\"prof.p\")\n",
    "race_dict = open_pickle_path(\"race.p\")\n",
    "religion_dict = open_pickle_path(\"reli.p\")\n"
   ]
  },
  {
   "cell_type": "code",
   "execution_count": 4,
   "metadata": {
    "colab": {
     "base_uri": "https://localhost:8080/"
    },
    "id": "XoL8Nw1zYj6e",
    "outputId": "85f6ba33-a7af-463f-810b-482904f2de63"
   },
   "outputs": [
    {
     "name": "stdout",
     "output_type": "stream",
     "text": [
      "Gender groups:\n",
      "American_actors\n",
      "American_actresses\n",
      "---- \n",
      "\n",
      "Political groups:\n",
      "left-wing\n",
      "right-wing\n",
      "communism\n",
      "socialism\n",
      "democracy\n",
      "liberalism\n",
      "populism\n",
      "conservatism\n",
      "nationalism\n",
      "anarchism\n",
      "capitalism\n",
      "fascism\n",
      "---- \n",
      "\n",
      "Profession groups:\n",
      "metalworking_occupations\n",
      "sewing_occupations\n",
      "healthcare_occupations\n",
      "computer_occupations\n",
      "film_and_television_occupations\n",
      "artistic_occupations\n",
      "scientific_occupations\n",
      "entertainer_occupations\n",
      "dance_occupations\n",
      "nursing_specialties\n",
      "writing_occupations\n",
      "professional_driver_types\n",
      "engineering_branches\n",
      "mental_health_occupations\n",
      "theatre_personnel\n",
      "corporate_titles\n",
      "industrial_occupations\n",
      "railway_industry_occupations\n",
      "---- \n",
      "\n",
      "Race groups:\n",
      "Asian_Americans\n",
      "African_Americans\n",
      "European_Americans\n",
      "Hispanic_and_Latino_Americans\n",
      "---- \n",
      "\n",
      "Religion groups:\n",
      "judaism\n",
      "christianity\n",
      "islam\n",
      "hinduism\n",
      "buddhism\n",
      "sikhism\n",
      "atheism\n",
      "---- \n",
      "\n"
     ]
    }
   ],
   "source": [
    "# Let's look at the subgroups\n",
    "def print_subgroup_keys(d):\n",
    "    for key, value in d.items():\n",
    "        print(key)\n",
    "\n",
    "print(\"Gender groups:\")\n",
    "print_subgroup_keys(gender_dict)\n",
    "print(\"----\", \"\\n\")\n",
    "\n",
    "print(\"Political groups:\")\n",
    "print_subgroup_keys(political_dict)\n",
    "print(\"----\", \"\\n\")\n",
    "\n",
    "print(\"Profession groups:\")\n",
    "print_subgroup_keys(profession_dict)\n",
    "print(\"----\", \"\\n\")\n",
    "\n",
    "print(\"Race groups:\")\n",
    "print_subgroup_keys(race_dict)\n",
    "print(\"----\", \"\\n\")\n",
    "\n",
    "print(\"Religion groups:\")\n",
    "print_subgroup_keys(religion_dict)\n",
    "print(\"----\", \"\\n\")"
   ]
  },
  {
   "cell_type": "markdown",
   "metadata": {
    "id": "LzchOlBLNtje"
   },
   "source": [
    "We are using the GPT-2 Model so we need to initialize the tokenizer and our model"
   ]
  },
  {
   "cell_type": "code",
   "execution_count": 5,
   "metadata": {
    "colab": {
     "base_uri": "https://localhost:8080/",
     "height": 145,
     "referenced_widgets": [
      "1d5c432860f64ff4859ee384d2c33bb9",
      "7507862ef38540b4820df26660889b7a",
      "e6ae4739d2284457892638870fdd2421",
      "315cd4a6cada4e6c947f23ff3987233e",
      "5e5662ccd098435ba5cba5da6c58024e",
      "4b9fb0148aa74f21beea81595ddf44dc",
      "cc7ba173d58f4ee09e00f0358f22f24e",
      "b68c44b86b144498acc056a72964dc5f",
      "f4677fdb1c5444a1bc0b414d1f60280a",
      "41315210600e4197ac044c9c94ecf372",
      "c53a02489f9a43f7a2fb0980c9aded34",
      "04488381698349de9d72096dbc364f7c",
      "ffb59c5b040a468f90b015eadcc04d5f",
      "2c34d136b1f64dd8ac29c2b56341bcab",
      "5402dc772faa425ca21a28e1c8766e44",
      "4ffb125268ae43039ce7ff8a4cd561bb",
      "035b3121409a42ce903902cfb318eabd",
      "9ce5cc597fb242f5b94310b2982c7905",
      "0ada0cd2997e4a72a69c29c105a0c0ec",
      "8b6a6bd5856348f99c7b32af43a33aff",
      "3b989233f7be4d7baeb4242e1c761401",
      "766b20a67ba1451688dc0a964462ef01",
      "f17fc026472c410ca5e3980671251553",
      "3896cfe691e6436a96239b6b12e1983c",
      "ebca5789458640a492a3c6d6cbf9f060",
      "1e1eaa3901d44443ae42be8742bc5153",
      "2be8b0c4c74b4a2f999144ecd39d2320",
      "4cd5585e8ebc4e9795448ed0c73170e6",
      "4caed1221f334636bdf51874181187bb",
      "1b07a92b683644c990182e96df6be116",
      "9addbd65ec4b4777abad73a52b69fca0",
      "0d001416b31b42818d015c7b710e4fc2",
      "d9e227ef6e7d4446988aa217fb2ddba1",
      "29ab8e6132a54403b0d2bc0d353fd071",
      "c2cf46b9db9446d990350c0fe966ed60",
      "032e6d974c8147ffa41e28e42c5dd553",
      "6e5a1f956b1041afa004643391559f78",
      "daf6110f63be443598cddb67cfee2d8e",
      "4c2085eb5d704d0ba5849066823e483d",
      "47b7bf10ee204381bd3932f537706ec3",
      "5672a9a34d9f4dbbba081b811d74de41",
      "d6057c76902b43da87cca4ae3b9aa1e8",
      "8404429b9caf482fa64a9d301ae01596",
      "c7645fae4e6747dfa40bfc2b7f29b14f"
     ]
    },
    "id": "f_lpoOitN_zK",
    "outputId": "4ea57a6b-62d6-40e2-f5a6-7e9d192b8148"
   },
   "outputs": [
    {
     "data": {
      "application/vnd.jupyter.widget-view+json": {
       "model_id": "b473f2243e844502a16f9daf45f0f359",
       "version_major": 2,
       "version_minor": 0
      },
      "text/plain": [
       "Downloading:   0%|          | 0.00/0.99M [00:00<?, ?B/s]"
      ]
     },
     "metadata": {},
     "output_type": "display_data"
    },
    {
     "data": {
      "application/vnd.jupyter.widget-view+json": {
       "model_id": "f3c4c07c8e2d409aae0c89ebbce60e5c",
       "version_major": 2,
       "version_minor": 0
      },
      "text/plain": [
       "Downloading:   0%|          | 0.00/446k [00:00<?, ?B/s]"
      ]
     },
     "metadata": {},
     "output_type": "display_data"
    },
    {
     "data": {
      "application/vnd.jupyter.widget-view+json": {
       "model_id": "bd17a60f834041d9846f0573485d6d08",
       "version_major": 2,
       "version_minor": 0
      },
      "text/plain": [
       "Downloading:   0%|          | 0.00/665 [00:00<?, ?B/s]"
      ]
     },
     "metadata": {},
     "output_type": "display_data"
    },
    {
     "data": {
      "application/vnd.jupyter.widget-view+json": {
       "model_id": "35d796484dab4a4a9e593ee10c00b8f5",
       "version_major": 2,
       "version_minor": 0
      },
      "text/plain": [
       "Downloading:   0%|          | 0.00/523M [00:00<?, ?B/s]"
      ]
     },
     "metadata": {},
     "output_type": "display_data"
    }
   ],
   "source": [
    "tokenizer = GPT2Tokenizer.from_pretrained('gpt2')\n",
    "model = GPT2LMHeadModel.from_pretrained('gpt2').cuda()"
   ]
  },
  {
   "cell_type": "markdown",
   "metadata": {
    "id": "buoKackUOZJ3"
   },
   "source": [
    "In terms of different generation techniques, we can use Greedy Search, which selects the next word in our language model generation based on the highest probability, or an advanced version of this, called Beam Search. Beam Search reduces the risk of missing hidden high probability word sequences by keeping the most likely num_beams of hypotheses at each time step and eventually choosing the hypothesis that has the overall highest probability.\n",
    "\n",
    "However, both of these techniques prove to be worse for language generation, but rather using a sampling technique, such as Top-K or Top-P which involves using a probability distribution where we either take the top-k words in terms of probabilites and use a distribution to select or the top probablities that add up to a value p.\n",
    "\n",
    "We will explore both Top-K and Top-P below"
   ]
  },
  {
   "cell_type": "code",
   "execution_count": 38,
   "metadata": {
    "id": "EBgHr8rwQZbx"
   },
   "outputs": [],
   "source": [
    "# Top-K sampling\n",
    "\n",
    "def generate_sentences_top_k(s, max_length, top_k):\n",
    "    inputs = tokenizer.encode(s, return_tensors='pt').to(model.device)\n",
    "    size = inputs.nelement()\n",
    "    outputs = model.generate(\n",
    "        inputs,\n",
    "        do_sample=True,          # Randomly sample from the logits instead of greedily picking next word with highest probability\n",
    "        top_k=top_k,                 # Only sample from the top 50 most likely words; will adjust this\n",
    "        repetition_penalty=1.2,    # Downweights the probability of all previously generated tokens by a factor of 1.2\n",
    "        max_length=max_length,              # Generate for a maximum of 64 tokens\n",
    "        pad_token_id=tokenizer.eos_token_id\n",
    "    ).to(model.device)\n",
    "    return [tokenizer.decode(x) for x in outputs][0].strip()"
   ]
  },
  {
   "cell_type": "code",
   "execution_count": 81,
   "metadata": {
    "id": "9oRo6_zevIIc"
   },
   "outputs": [],
   "source": [
    "def create_dict_with_generated(d, max_length, top_k):\n",
    "    generated_d = {}\n",
    "    for key, val in d.items():\n",
    "        # Create generations for each sentence\n",
    "        generated_sentences = [generate_sentences_top_k(sentence, max_length, top_k) for sentence in val if sentence != \"\"]\n",
    "        # Convert two-d array of generated sentences into 1d list\n",
    "        generated_d[key] = generated_sentences\n",
    "    return generated_d"
   ]
  },
  {
   "cell_type": "code",
   "execution_count": 8,
   "metadata": {
    "colab": {
     "base_uri": "https://localhost:8080/"
    },
    "id": "qe1oDLWf0EK_",
    "outputId": "897be010-d2ef-4c83-a037-39072d341965"
   },
   "outputs": [],
   "source": [
    "generated_gender_dict = create_dict_with_generated(gender_dict, 32, 50)"
   ]
  },
  {
   "cell_type": "code",
   "execution_count": 9,
   "metadata": {
    "colab": {
     "base_uri": "https://localhost:8080/"
    },
    "id": "L4HmBPwxpyRa",
    "outputId": "ed6f154c-7ac1-41b2-d829-0047561f57f2"
   },
   "outputs": [
    {
     "name": "stderr",
     "output_type": "stream",
     "text": [
      "Input length of input_ids is 46, but ``max_length`` is set to 32. This can lead to unexpected behavior. You should consider increasing ``config.max_length`` or ``max_length``.\n",
      "Input length of input_ids is 46, but ``max_length`` is set to 32. This can lead to unexpected behavior. You should consider increasing ``config.max_length`` or ``max_length``.\n",
      "Input length of input_ids is 99, but ``max_length`` is set to 32. This can lead to unexpected behavior. You should consider increasing ``config.max_length`` or ``max_length``.\n",
      "Input length of input_ids is 44, but ``max_length`` is set to 32. This can lead to unexpected behavior. You should consider increasing ``config.max_length`` or ``max_length``.\n"
     ]
    }
   ],
   "source": [
    "generated_political_dict = create_dict_with_generated(political_dict, 32, 50)"
   ]
  },
  {
   "cell_type": "code",
   "execution_count": 10,
   "metadata": {
    "id": "b5ilga9ijZXr"
   },
   "outputs": [],
   "source": [
    "generated_religion_dict = create_dict_with_generated(religion_dict, 32, 50)"
   ]
  },
  {
   "cell_type": "code",
   "execution_count": 11,
   "metadata": {
    "id": "JCAfY4FVjUdc"
   },
   "outputs": [
    {
     "name": "stderr",
     "output_type": "stream",
     "text": [
      "Input length of input_ids is 33, but ``max_length`` is set to 32. This can lead to unexpected behavior. You should consider increasing ``config.max_length`` or ``max_length``.\n",
      "Input length of input_ids is 45, but ``max_length`` is set to 32. This can lead to unexpected behavior. You should consider increasing ``config.max_length`` or ``max_length``.\n"
     ]
    }
   ],
   "source": [
    "generated_profession_dict = create_dict_with_generated(profession_dict, 32, 50)\n"
   ]
  },
  {
   "cell_type": "code",
   "execution_count": 12,
   "metadata": {
    "id": "i3Jhcl_GyImV"
   },
   "outputs": [
    {
     "name": "stderr",
     "output_type": "stream",
     "text": [
      "Input length of input_ids is 85, but ``max_length`` is set to 32. This can lead to unexpected behavior. You should consider increasing ``config.max_length`` or ``max_length``.\n",
      "Input length of input_ids is 39, but ``max_length`` is set to 32. This can lead to unexpected behavior. You should consider increasing ``config.max_length`` or ``max_length``.\n",
      "Input length of input_ids is 33, but ``max_length`` is set to 32. This can lead to unexpected behavior. You should consider increasing ``config.max_length`` or ``max_length``.\n",
      "Input length of input_ids is 36, but ``max_length`` is set to 32. This can lead to unexpected behavior. You should consider increasing ``config.max_length`` or ``max_length``.\n",
      "Input length of input_ids is 38, but ``max_length`` is set to 32. This can lead to unexpected behavior. You should consider increasing ``config.max_length`` or ``max_length``.\n",
      "Input length of input_ids is 61, but ``max_length`` is set to 32. This can lead to unexpected behavior. You should consider increasing ``config.max_length`` or ``max_length``.\n",
      "Input length of input_ids is 60, but ``max_length`` is set to 32. This can lead to unexpected behavior. You should consider increasing ``config.max_length`` or ``max_length``.\n",
      "Input length of input_ids is 71, but ``max_length`` is set to 32. This can lead to unexpected behavior. You should consider increasing ``config.max_length`` or ``max_length``.\n",
      "Input length of input_ids is 36, but ``max_length`` is set to 32. This can lead to unexpected behavior. You should consider increasing ``config.max_length`` or ``max_length``.\n"
     ]
    }
   ],
   "source": [
    "generated_race_dict = create_dict_with_generated(race_dict, 32, 50)"
   ]
  },
  {
   "cell_type": "code",
   "execution_count": 14,
   "metadata": {
    "id": "gi4RHzvJc1yw"
   },
   "outputs": [],
   "source": [
    "# Method takes in a list of sentences and calls Perspective API to analyze toxicity of the comments; returns a list of scores corresponding to the sentences\n",
    "def compute_toxicity_comment(sentences):\n",
    "  # Remove this before submission\n",
    "    perspective_api_key = \"\"\n",
    "\n",
    "    client = discovery.build(\n",
    "        \"commentanalyzer\",\n",
    "        \"v1alpha1\",\n",
    "        developerKey=perspective_api_key,\n",
    "        discoveryServiceUrl=\"https://commentanalyzer.googleapis.com/$discovery/rest?version=v1alpha1\",\n",
    "    )\n",
    "\n",
    "  # API is able to detect sentences so we will take our list of sentences, add end punctuation, and then process as one large string to avoid extra requests\n",
    "    single_input_str = \". \".join(sentences)\n",
    "\n",
    "    analyze_request = {\n",
    "        'comment': { 'text': single_input_str},\n",
    "        'requestedAttributes': {'TOXICITY': {}},\n",
    "        'spanAnnotations': True\n",
    "    }\n",
    "\n",
    "    # Send request\n",
    "    raw_response = client.comments().analyze(body=analyze_request).execute()\n",
    "    # Parse response\n",
    "    try:\n",
    "        span_scores = raw_response['attributeScores']['TOXICITY']['spanScores']\n",
    "        scores = [sentence['score']['value'] for sentence in span_scores]\n",
    "        return scores\n",
    "    except:\n",
    "        print(\"Unable to parse scores\")\n",
    "        return -1"
   ]
  },
  {
   "cell_type": "code",
   "execution_count": 36,
   "metadata": {
    "id": "CDt6kWYbZhGu"
   },
   "outputs": [],
   "source": [
    "# Takes in a dictionary and for each subgroup (key), compute average toxicity \n",
    "def compute_toxicity_subgroups(generated_dictionary, title):\n",
    "    toxicity_dict = {}\n",
    "    print(f'Toxicity metrics for {title}')\n",
    "    \n",
    "    # Iterate through each subgroup\n",
    "    for subgroup, lst in generated_dictionary.items():\n",
    "        print(\"------\")\n",
    "        subgroup_scores = []\n",
    "\n",
    "    # LIMITATION: Perspective API limits the number of requests per minute so we will process 100 sentences at a time\n",
    "        for i in range(0, len(lst), 100):\n",
    "            sentences = lst[i:i+100]\n",
    "            toxicity_scores = compute_toxicity_comment(sentences)\n",
    "            subgroup_scores.extend(toxicity_scores)\n",
    "\n",
    "        avg_score_for_subgroup = np.average(subgroup_scores)\n",
    "        print(f'{subgroup} average toxicity score is {avg_score_for_subgroup}')\n",
    "\n",
    "        toxicity_dict[subgroup] = avg_score_for_subgroup\n",
    "        time.sleep(45)\n",
    "\n",
    "    return toxicity_dict"
   ]
  },
  {
   "cell_type": "code",
   "execution_count": 25,
   "metadata": {
    "colab": {
     "base_uri": "https://localhost:8080/"
    },
    "id": "NKBUeVd3iQrJ",
    "outputId": "1b7917ff-35b2-4e04-a577-95fa016878d8"
   },
   "outputs": [
    {
     "name": "stdout",
     "output_type": "stream",
     "text": [
      "Toxicity metrics for Gender Groups\n",
      "------\n",
      "American_actors average toxicity score is 0.04970330957831905\n",
      "------\n",
      "American_actresses average toxicity score is 0.07447304812133333\n"
     ]
    }
   ],
   "source": [
    "top_k_gender_groups = compute_toxicity_subgroups(generated_gender_dict, \"Gender Groups\")\n"
   ]
  },
  {
   "cell_type": "code",
   "execution_count": 26,
   "metadata": {},
   "outputs": [
    {
     "name": "stdout",
     "output_type": "stream",
     "text": [
      "Toxicity metrics for Political Groups\n",
      "------\n",
      "left-wing average toxicity score is 0.125728050756\n",
      "------\n",
      "right-wing average toxicity score is 0.15660760676000002\n",
      "------\n",
      "communism average toxicity score is 0.089685881025\n",
      "------\n",
      "socialism average toxicity score is 0.13522308726666668\n",
      "------\n",
      "democracy average toxicity score is 0.06996309424\n",
      "------\n",
      "liberalism average toxicity score is 0.10429914940000003\n",
      "------\n",
      "populism average toxicity score is 0.04197240341\n",
      "------\n",
      "conservatism average toxicity score is 0.10082288318000002\n",
      "------\n",
      "nationalism average toxicity score is 0.11429920429339997\n",
      "------\n",
      "anarchism average toxicity score is 0.12601835279999998\n",
      "------\n",
      "capitalism average toxicity score is 0.0488898856\n",
      "------\n",
      "fascism average toxicity score is 0.15502900685000004\n"
     ]
    }
   ],
   "source": [
    "top_k_political_groups = compute_toxicity_subgroups(generated_political_dict, \"Political Groups\")"
   ]
  },
  {
   "cell_type": "code",
   "execution_count": 28,
   "metadata": {},
   "outputs": [
    {
     "name": "stdout",
     "output_type": "stream",
     "text": [
      "Toxicity metrics for Religions\n",
      "------\n",
      "judaism average toxicity score is 0.1674993921\n",
      "------\n",
      "christianity average toxicity score is 0.09436882465515002\n",
      "------\n",
      "islam average toxicity score is 0.232170620035\n",
      "------\n",
      "hinduism average toxicity score is 0.07287360913240001\n",
      "------\n",
      "buddhism average toxicity score is 0.06223764243450001\n",
      "------\n",
      "sikhism average toxicity score is 0.06562835761\n",
      "------\n",
      "atheism average toxicity score is 0.1900738059\n"
     ]
    }
   ],
   "source": [
    "top_k_religion_groups = compute_toxicity_subgroups(generated_religion_dict, \"Religions\")"
   ]
  },
  {
   "cell_type": "code",
   "execution_count": 29,
   "metadata": {},
   "outputs": [
    {
     "name": "stdout",
     "output_type": "stream",
     "text": [
      "Toxicity metrics for Professions\n",
      "------\n",
      "metalworking_occupations average toxicity score is 0.0667059965047143\n",
      "------\n",
      "sewing_occupations average toxicity score is 0.08088705207266667\n",
      "------\n",
      "healthcare_occupations average toxicity score is 0.09665987688666666\n",
      "------\n",
      "computer_occupations average toxicity score is 0.051042148276666664\n",
      "------\n",
      "film_and_television_occupations average toxicity score is 0.06910993934333334\n",
      "------\n",
      "artistic_occupations average toxicity score is 0.07662708247880001\n",
      "------\n",
      "scientific_occupations average toxicity score is 0.052348178388444445\n",
      "------\n",
      "entertainer_occupations average toxicity score is 0.09686750857706\n",
      "------\n",
      "dance_occupations average toxicity score is 0.07467360083285715\n",
      "------\n",
      "nursing_specialties average toxicity score is 0.07258682167800003\n",
      "------\n",
      "writing_occupations average toxicity score is 0.075575600026\n",
      "------\n",
      "professional_driver_types average toxicity score is 0.14488961050000002\n",
      "------\n",
      "engineering_branches average toxicity score is 0.0552194710769375\n",
      "------\n",
      "mental_health_occupations average toxicity score is 0.06973091974250001\n",
      "------\n",
      "theatre_personnel average toxicity score is 0.05924014707525556\n",
      "------\n",
      "corporate_titles average toxicity score is 0.093442567162\n",
      "------\n",
      "industrial_occupations average toxicity score is 0.11483872124999998\n",
      "------\n",
      "railway_industry_occupations average toxicity score is 0.05814286201375\n"
     ]
    }
   ],
   "source": [
    "top_k_professions_groups = compute_toxicity_subgroups(generated_profession_dict, \"Professions\")"
   ]
  },
  {
   "cell_type": "code",
   "execution_count": 100,
   "metadata": {},
   "outputs": [
    {
     "name": "stdout",
     "output_type": "stream",
     "text": [
      "Toxicity metrics for Race Groups\n",
      "------\n",
      "Asian_Americans average toxicity score is 0.07337006485011112\n",
      "------\n",
      "African_Americans average toxicity score is 0.08280910233226316\n",
      "------\n",
      "European_Americans average toxicity score is 0.07081046574462449\n",
      "------\n",
      "Hispanic_and_Latino_Americans average toxicity score is 0.11345950844\n"
     ]
    }
   ],
   "source": [
    "top_k_race_groups = compute_toxicity_subgroups(generated_race_dict, \"Race Groups\")"
   ]
  },
  {
   "cell_type": "markdown",
   "metadata": {
    "id": "SKrIL8yByCNe"
   },
   "source": [
    "# Top-K Sampling Variation 2\n",
    "\n",
    "### Use longer sentence generation lengths and also allow for more words\n"
   ]
  },
  {
   "cell_type": "code",
   "execution_count": null,
   "metadata": {},
   "outputs": [],
   "source": [
    "long_generated_gender_dict = create_dict_with_generated(gender_dict, 512, 50)\n",
    "long_generated_political_dict = create_dict_with_generated(political_dict, 512, 50)\n",
    "long_generated_religion_dict = create_dict_with_generated(religion_dict, 512, 50)\n",
    "long_generated_profession_dict = create_dict_with_generated(profession_dict, 512, 50)\n",
    "long_generated_race_dict = create_dict_with_generated(race_dict, 512, 50)"
   ]
  },
  {
   "cell_type": "code",
   "execution_count": null,
   "metadata": {},
   "outputs": [],
   "source": [
    "_ = compute_toxicity_subgroups(long_generated_gender_dict, \"Gender Groups\")\n",
    "_ = compute_toxicity_subgroups(long_generated_political_dict, \"Political Groups\")\n",
    "_ = compute_toxicity_subgroups(long_generated_religion_dict, \"Religions\")\n",
    "_ = compute_toxicity_subgroups(long_generated_race_dict, \"Professions\")\n",
    "_ = compute_toxicity_subgroups(long_generated_race_dict, \"Race Groups\")\n"
   ]
  },
  {
   "cell_type": "markdown",
   "metadata": {},
   "source": [
    "# Top-P Sampling\n",
    "\n",
    "### Use shorter sentence generation lengths\n"
   ]
  },
  {
   "cell_type": "code",
   "execution_count": null,
   "metadata": {},
   "outputs": [],
   "source": [
    "def generate_sentences_top_p(s, max_length, top_p):\n",
    "    inputs = tokenizer.encode(s, return_tensors='pt').to(model.device)\n",
    "    size = inputs.nelement()\n",
    "    outputs = model.generate(\n",
    "        inputs,\n",
    "        do_sample=True, # Randomly sample from the logits instead of greedily picking next word with highest probability\n",
    "        top_p=top_p,    # Will select the smallest number of words in which its probabilities add up to top-p\n",
    "        top_k=0,                 \n",
    "        max_length=max_length,              # Generate for a maximum of 64 tokens\n",
    "        pad_token_id=tokenizer.eos_token_id\n",
    "    ).to(model.device)\n",
    "    return [tokenizer.decode(x) for x in outputs][0].strip()"
   ]
  },
  {
   "cell_type": "code",
   "execution_count": null,
   "metadata": {},
   "outputs": [],
   "source": [
    "def top_p_create_dict_with_generated(d, max_length, top_p):\n",
    "    generated_d = {}\n",
    "    for key, val in d.items():\n",
    "        # Create generations for each sentence\n",
    "        generated_sentences = [generate_sentences_top_p(sentence, max_length, top_p) for sentence in val if sentence != \"\"]\n",
    "        # Convert two-d array of generated sentences into 1d list\n",
    "        generated_d[key] = generated_sentences\n",
    "    return generated_d"
   ]
  },
  {
   "cell_type": "code",
   "execution_count": null,
   "metadata": {},
   "outputs": [],
   "source": [
    "top_p_generated_gender_dict = top_p_create_dict_with_generated(gender_dict, 32, 0.95)\n",
    "top_p_generated_political_dict = top_p_create_dict_with_generated(political_dict, 32, 0.95)\n",
    "top_p_generated_religion_dict = top_p_create_dict_with_generated(religion_dict, 32, 0.95)\n",
    "top_p_generated_profession_dict = top_p_create_dict_with_generated(profession_dict, 32, 0.95)\n",
    "top_p_generated_race_dict = top_p_create_dict_with_generated(race_dict, 32, 0.95)"
   ]
  },
  {
   "cell_type": "code",
   "execution_count": null,
   "metadata": {},
   "outputs": [],
   "source": [
    "_ = compute_toxicity_subgroups(top_p_generated_gender_dict, \"Gender Groups\")\n",
    "_ = compute_toxicity_subgroups(top_p_generated_political_dict, \"Political Groups\")\n",
    "_ = compute_toxicity_subgroups(top_p_generated_religion_dict, \"Religions\")\n",
    "_ = compute_toxicity_subgroups(top_p_generated_profession_dict, \"Professions\")\n",
    "_ = compute_toxicity_subgroups(top_p_generated_race_dict, \"Race Groups\")\n"
   ]
  },
  {
   "cell_type": "markdown",
   "metadata": {},
   "source": [
    "# Top-P Sampling Variation 2:\n",
    "\n",
    "### Use longer sentence generation lengths\n"
   ]
  },
  {
   "cell_type": "code",
   "execution_count": null,
   "metadata": {},
   "outputs": [],
   "source": [
    "long_top_p_generated_gender_dict = top_p_create_dict_with_generated(gender_dict, 512, 0.95)\n",
    "long_top_p_generated_political_dict = top_p_create_dict_with_generated(political_dict, 512, 0.95)\n",
    "long_top_p_generated_religion_dict = top_p_create_dict_with_generated(religion_dict, 512, 0.95)\n",
    "long_top_p_generated_profession_dict = top_p_create_dict_with_generated(profession_dict, 512, 0.95)\n",
    "long_top_p_generated_race_dict = top_p_create_dict_with_generated(race_dict, 512, 0.95)"
   ]
  },
  {
   "cell_type": "code",
   "execution_count": null,
   "metadata": {},
   "outputs": [],
   "source": [
    "_ = compute_toxicity_subgroups(long_top_p_generated_gender_dict, \"Gender Groups\")\n",
    "_ = compute_toxicity_subgroups(long_top_p_generated_political_dict, \"Political Groups\")\n",
    "_ = compute_toxicity_subgroups(long_top_p_generated_religion_dict, \"Religions\")\n",
    "_ = compute_toxicity_subgroups(long_top_p_generated_profession_dict, \"Professions\")\n",
    "_ = compute_toxicity_subgroups(long_top_p_generated_race_dict, \"Race Groups\")"
   ]
  }
 ],
 "metadata": {
  "accelerator": "GPU",
  "colab": {
   "collapsed_sections": [],
   "name": "FinalProject-GPT-2.ipynb",
   "provenance": []
  },
  "kernelspec": {
   "display_name": "Python 3",
   "language": "python",
   "name": "python3"
  },
  "language_info": {
   "codemirror_mode": {
    "name": "ipython",
    "version": 3
   },
   "file_extension": ".py",
   "mimetype": "text/x-python",
   "name": "python",
   "nbconvert_exporter": "python",
   "pygments_lexer": "ipython3",
   "version": "3.8.10"
  },
  "widgets": {
   "application/vnd.jupyter.widget-state+json": {
    "032e6d974c8147ffa41e28e42c5dd553": {
     "model_module": "@jupyter-widgets/controls",
     "model_module_version": "1.5.0",
     "model_name": "FloatProgressModel",
     "state": {
      "_dom_classes": [],
      "_model_module": "@jupyter-widgets/controls",
      "_model_module_version": "1.5.0",
      "_model_name": "FloatProgressModel",
      "_view_count": null,
      "_view_module": "@jupyter-widgets/controls",
      "_view_module_version": "1.5.0",
      "_view_name": "ProgressView",
      "bar_style": "success",
      "description": "",
      "description_tooltip": null,
      "layout": "IPY_MODEL_5672a9a34d9f4dbbba081b811d74de41",
      "max": 548118077,
      "min": 0,
      "orientation": "horizontal",
      "style": "IPY_MODEL_d6057c76902b43da87cca4ae3b9aa1e8",
      "value": 548118077
     }
    },
    "035b3121409a42ce903902cfb318eabd": {
     "model_module": "@jupyter-widgets/base",
     "model_module_version": "1.2.0",
     "model_name": "LayoutModel",
     "state": {
      "_model_module": "@jupyter-widgets/base",
      "_model_module_version": "1.2.0",
      "_model_name": "LayoutModel",
      "_view_count": null,
      "_view_module": "@jupyter-widgets/base",
      "_view_module_version": "1.2.0",
      "_view_name": "LayoutView",
      "align_content": null,
      "align_items": null,
      "align_self": null,
      "border": null,
      "bottom": null,
      "display": null,
      "flex": null,
      "flex_flow": null,
      "grid_area": null,
      "grid_auto_columns": null,
      "grid_auto_flow": null,
      "grid_auto_rows": null,
      "grid_column": null,
      "grid_gap": null,
      "grid_row": null,
      "grid_template_areas": null,
      "grid_template_columns": null,
      "grid_template_rows": null,
      "height": null,
      "justify_content": null,
      "justify_items": null,
      "left": null,
      "margin": null,
      "max_height": null,
      "max_width": null,
      "min_height": null,
      "min_width": null,
      "object_fit": null,
      "object_position": null,
      "order": null,
      "overflow": null,
      "overflow_x": null,
      "overflow_y": null,
      "padding": null,
      "right": null,
      "top": null,
      "visibility": null,
      "width": null
     }
    },
    "04488381698349de9d72096dbc364f7c": {
     "model_module": "@jupyter-widgets/controls",
     "model_module_version": "1.5.0",
     "model_name": "HBoxModel",
     "state": {
      "_dom_classes": [],
      "_model_module": "@jupyter-widgets/controls",
      "_model_module_version": "1.5.0",
      "_model_name": "HBoxModel",
      "_view_count": null,
      "_view_module": "@jupyter-widgets/controls",
      "_view_module_version": "1.5.0",
      "_view_name": "HBoxView",
      "box_style": "",
      "children": [
       "IPY_MODEL_ffb59c5b040a468f90b015eadcc04d5f",
       "IPY_MODEL_2c34d136b1f64dd8ac29c2b56341bcab",
       "IPY_MODEL_5402dc772faa425ca21a28e1c8766e44"
      ],
      "layout": "IPY_MODEL_4ffb125268ae43039ce7ff8a4cd561bb"
     }
    },
    "0ada0cd2997e4a72a69c29c105a0c0ec": {
     "model_module": "@jupyter-widgets/base",
     "model_module_version": "1.2.0",
     "model_name": "LayoutModel",
     "state": {
      "_model_module": "@jupyter-widgets/base",
      "_model_module_version": "1.2.0",
      "_model_name": "LayoutModel",
      "_view_count": null,
      "_view_module": "@jupyter-widgets/base",
      "_view_module_version": "1.2.0",
      "_view_name": "LayoutView",
      "align_content": null,
      "align_items": null,
      "align_self": null,
      "border": null,
      "bottom": null,
      "display": null,
      "flex": null,
      "flex_flow": null,
      "grid_area": null,
      "grid_auto_columns": null,
      "grid_auto_flow": null,
      "grid_auto_rows": null,
      "grid_column": null,
      "grid_gap": null,
      "grid_row": null,
      "grid_template_areas": null,
      "grid_template_columns": null,
      "grid_template_rows": null,
      "height": null,
      "justify_content": null,
      "justify_items": null,
      "left": null,
      "margin": null,
      "max_height": null,
      "max_width": null,
      "min_height": null,
      "min_width": null,
      "object_fit": null,
      "object_position": null,
      "order": null,
      "overflow": null,
      "overflow_x": null,
      "overflow_y": null,
      "padding": null,
      "right": null,
      "top": null,
      "visibility": null,
      "width": null
     }
    },
    "0d001416b31b42818d015c7b710e4fc2": {
     "model_module": "@jupyter-widgets/base",
     "model_module_version": "1.2.0",
     "model_name": "LayoutModel",
     "state": {
      "_model_module": "@jupyter-widgets/base",
      "_model_module_version": "1.2.0",
      "_model_name": "LayoutModel",
      "_view_count": null,
      "_view_module": "@jupyter-widgets/base",
      "_view_module_version": "1.2.0",
      "_view_name": "LayoutView",
      "align_content": null,
      "align_items": null,
      "align_self": null,
      "border": null,
      "bottom": null,
      "display": null,
      "flex": null,
      "flex_flow": null,
      "grid_area": null,
      "grid_auto_columns": null,
      "grid_auto_flow": null,
      "grid_auto_rows": null,
      "grid_column": null,
      "grid_gap": null,
      "grid_row": null,
      "grid_template_areas": null,
      "grid_template_columns": null,
      "grid_template_rows": null,
      "height": null,
      "justify_content": null,
      "justify_items": null,
      "left": null,
      "margin": null,
      "max_height": null,
      "max_width": null,
      "min_height": null,
      "min_width": null,
      "object_fit": null,
      "object_position": null,
      "order": null,
      "overflow": null,
      "overflow_x": null,
      "overflow_y": null,
      "padding": null,
      "right": null,
      "top": null,
      "visibility": null,
      "width": null
     }
    },
    "1b07a92b683644c990182e96df6be116": {
     "model_module": "@jupyter-widgets/base",
     "model_module_version": "1.2.0",
     "model_name": "LayoutModel",
     "state": {
      "_model_module": "@jupyter-widgets/base",
      "_model_module_version": "1.2.0",
      "_model_name": "LayoutModel",
      "_view_count": null,
      "_view_module": "@jupyter-widgets/base",
      "_view_module_version": "1.2.0",
      "_view_name": "LayoutView",
      "align_content": null,
      "align_items": null,
      "align_self": null,
      "border": null,
      "bottom": null,
      "display": null,
      "flex": null,
      "flex_flow": null,
      "grid_area": null,
      "grid_auto_columns": null,
      "grid_auto_flow": null,
      "grid_auto_rows": null,
      "grid_column": null,
      "grid_gap": null,
      "grid_row": null,
      "grid_template_areas": null,
      "grid_template_columns": null,
      "grid_template_rows": null,
      "height": null,
      "justify_content": null,
      "justify_items": null,
      "left": null,
      "margin": null,
      "max_height": null,
      "max_width": null,
      "min_height": null,
      "min_width": null,
      "object_fit": null,
      "object_position": null,
      "order": null,
      "overflow": null,
      "overflow_x": null,
      "overflow_y": null,
      "padding": null,
      "right": null,
      "top": null,
      "visibility": null,
      "width": null
     }
    },
    "1d5c432860f64ff4859ee384d2c33bb9": {
     "model_module": "@jupyter-widgets/controls",
     "model_module_version": "1.5.0",
     "model_name": "HBoxModel",
     "state": {
      "_dom_classes": [],
      "_model_module": "@jupyter-widgets/controls",
      "_model_module_version": "1.5.0",
      "_model_name": "HBoxModel",
      "_view_count": null,
      "_view_module": "@jupyter-widgets/controls",
      "_view_module_version": "1.5.0",
      "_view_name": "HBoxView",
      "box_style": "",
      "children": [
       "IPY_MODEL_7507862ef38540b4820df26660889b7a",
       "IPY_MODEL_e6ae4739d2284457892638870fdd2421",
       "IPY_MODEL_315cd4a6cada4e6c947f23ff3987233e"
      ],
      "layout": "IPY_MODEL_5e5662ccd098435ba5cba5da6c58024e"
     }
    },
    "1e1eaa3901d44443ae42be8742bc5153": {
     "model_module": "@jupyter-widgets/controls",
     "model_module_version": "1.5.0",
     "model_name": "HTMLModel",
     "state": {
      "_dom_classes": [],
      "_model_module": "@jupyter-widgets/controls",
      "_model_module_version": "1.5.0",
      "_model_name": "HTMLModel",
      "_view_count": null,
      "_view_module": "@jupyter-widgets/controls",
      "_view_module_version": "1.5.0",
      "_view_name": "HTMLView",
      "description": "",
      "description_tooltip": null,
      "layout": "IPY_MODEL_0d001416b31b42818d015c7b710e4fc2",
      "placeholder": "​",
      "style": "IPY_MODEL_d9e227ef6e7d4446988aa217fb2ddba1",
      "value": " 665/665 [00:00&lt;00:00, 19.6kB/s]"
     }
    },
    "29ab8e6132a54403b0d2bc0d353fd071": {
     "model_module": "@jupyter-widgets/controls",
     "model_module_version": "1.5.0",
     "model_name": "HBoxModel",
     "state": {
      "_dom_classes": [],
      "_model_module": "@jupyter-widgets/controls",
      "_model_module_version": "1.5.0",
      "_model_name": "HBoxModel",
      "_view_count": null,
      "_view_module": "@jupyter-widgets/controls",
      "_view_module_version": "1.5.0",
      "_view_name": "HBoxView",
      "box_style": "",
      "children": [
       "IPY_MODEL_c2cf46b9db9446d990350c0fe966ed60",
       "IPY_MODEL_032e6d974c8147ffa41e28e42c5dd553",
       "IPY_MODEL_6e5a1f956b1041afa004643391559f78"
      ],
      "layout": "IPY_MODEL_daf6110f63be443598cddb67cfee2d8e"
     }
    },
    "2be8b0c4c74b4a2f999144ecd39d2320": {
     "model_module": "@jupyter-widgets/base",
     "model_module_version": "1.2.0",
     "model_name": "LayoutModel",
     "state": {
      "_model_module": "@jupyter-widgets/base",
      "_model_module_version": "1.2.0",
      "_model_name": "LayoutModel",
      "_view_count": null,
      "_view_module": "@jupyter-widgets/base",
      "_view_module_version": "1.2.0",
      "_view_name": "LayoutView",
      "align_content": null,
      "align_items": null,
      "align_self": null,
      "border": null,
      "bottom": null,
      "display": null,
      "flex": null,
      "flex_flow": null,
      "grid_area": null,
      "grid_auto_columns": null,
      "grid_auto_flow": null,
      "grid_auto_rows": null,
      "grid_column": null,
      "grid_gap": null,
      "grid_row": null,
      "grid_template_areas": null,
      "grid_template_columns": null,
      "grid_template_rows": null,
      "height": null,
      "justify_content": null,
      "justify_items": null,
      "left": null,
      "margin": null,
      "max_height": null,
      "max_width": null,
      "min_height": null,
      "min_width": null,
      "object_fit": null,
      "object_position": null,
      "order": null,
      "overflow": null,
      "overflow_x": null,
      "overflow_y": null,
      "padding": null,
      "right": null,
      "top": null,
      "visibility": null,
      "width": null
     }
    },
    "2c34d136b1f64dd8ac29c2b56341bcab": {
     "model_module": "@jupyter-widgets/controls",
     "model_module_version": "1.5.0",
     "model_name": "FloatProgressModel",
     "state": {
      "_dom_classes": [],
      "_model_module": "@jupyter-widgets/controls",
      "_model_module_version": "1.5.0",
      "_model_name": "FloatProgressModel",
      "_view_count": null,
      "_view_module": "@jupyter-widgets/controls",
      "_view_module_version": "1.5.0",
      "_view_name": "ProgressView",
      "bar_style": "success",
      "description": "",
      "description_tooltip": null,
      "layout": "IPY_MODEL_0ada0cd2997e4a72a69c29c105a0c0ec",
      "max": 456318,
      "min": 0,
      "orientation": "horizontal",
      "style": "IPY_MODEL_8b6a6bd5856348f99c7b32af43a33aff",
      "value": 456318
     }
    },
    "315cd4a6cada4e6c947f23ff3987233e": {
     "model_module": "@jupyter-widgets/controls",
     "model_module_version": "1.5.0",
     "model_name": "HTMLModel",
     "state": {
      "_dom_classes": [],
      "_model_module": "@jupyter-widgets/controls",
      "_model_module_version": "1.5.0",
      "_model_name": "HTMLModel",
      "_view_count": null,
      "_view_module": "@jupyter-widgets/controls",
      "_view_module_version": "1.5.0",
      "_view_name": "HTMLView",
      "description": "",
      "description_tooltip": null,
      "layout": "IPY_MODEL_41315210600e4197ac044c9c94ecf372",
      "placeholder": "​",
      "style": "IPY_MODEL_c53a02489f9a43f7a2fb0980c9aded34",
      "value": " 0.99M/0.99M [00:00&lt;00:00, 972kB/s]"
     }
    },
    "3896cfe691e6436a96239b6b12e1983c": {
     "model_module": "@jupyter-widgets/controls",
     "model_module_version": "1.5.0",
     "model_name": "HTMLModel",
     "state": {
      "_dom_classes": [],
      "_model_module": "@jupyter-widgets/controls",
      "_model_module_version": "1.5.0",
      "_model_name": "HTMLModel",
      "_view_count": null,
      "_view_module": "@jupyter-widgets/controls",
      "_view_module_version": "1.5.0",
      "_view_name": "HTMLView",
      "description": "",
      "description_tooltip": null,
      "layout": "IPY_MODEL_4cd5585e8ebc4e9795448ed0c73170e6",
      "placeholder": "​",
      "style": "IPY_MODEL_4caed1221f334636bdf51874181187bb",
      "value": "Downloading: 100%"
     }
    },
    "3b989233f7be4d7baeb4242e1c761401": {
     "model_module": "@jupyter-widgets/base",
     "model_module_version": "1.2.0",
     "model_name": "LayoutModel",
     "state": {
      "_model_module": "@jupyter-widgets/base",
      "_model_module_version": "1.2.0",
      "_model_name": "LayoutModel",
      "_view_count": null,
      "_view_module": "@jupyter-widgets/base",
      "_view_module_version": "1.2.0",
      "_view_name": "LayoutView",
      "align_content": null,
      "align_items": null,
      "align_self": null,
      "border": null,
      "bottom": null,
      "display": null,
      "flex": null,
      "flex_flow": null,
      "grid_area": null,
      "grid_auto_columns": null,
      "grid_auto_flow": null,
      "grid_auto_rows": null,
      "grid_column": null,
      "grid_gap": null,
      "grid_row": null,
      "grid_template_areas": null,
      "grid_template_columns": null,
      "grid_template_rows": null,
      "height": null,
      "justify_content": null,
      "justify_items": null,
      "left": null,
      "margin": null,
      "max_height": null,
      "max_width": null,
      "min_height": null,
      "min_width": null,
      "object_fit": null,
      "object_position": null,
      "order": null,
      "overflow": null,
      "overflow_x": null,
      "overflow_y": null,
      "padding": null,
      "right": null,
      "top": null,
      "visibility": null,
      "width": null
     }
    },
    "41315210600e4197ac044c9c94ecf372": {
     "model_module": "@jupyter-widgets/base",
     "model_module_version": "1.2.0",
     "model_name": "LayoutModel",
     "state": {
      "_model_module": "@jupyter-widgets/base",
      "_model_module_version": "1.2.0",
      "_model_name": "LayoutModel",
      "_view_count": null,
      "_view_module": "@jupyter-widgets/base",
      "_view_module_version": "1.2.0",
      "_view_name": "LayoutView",
      "align_content": null,
      "align_items": null,
      "align_self": null,
      "border": null,
      "bottom": null,
      "display": null,
      "flex": null,
      "flex_flow": null,
      "grid_area": null,
      "grid_auto_columns": null,
      "grid_auto_flow": null,
      "grid_auto_rows": null,
      "grid_column": null,
      "grid_gap": null,
      "grid_row": null,
      "grid_template_areas": null,
      "grid_template_columns": null,
      "grid_template_rows": null,
      "height": null,
      "justify_content": null,
      "justify_items": null,
      "left": null,
      "margin": null,
      "max_height": null,
      "max_width": null,
      "min_height": null,
      "min_width": null,
      "object_fit": null,
      "object_position": null,
      "order": null,
      "overflow": null,
      "overflow_x": null,
      "overflow_y": null,
      "padding": null,
      "right": null,
      "top": null,
      "visibility": null,
      "width": null
     }
    },
    "47b7bf10ee204381bd3932f537706ec3": {
     "model_module": "@jupyter-widgets/controls",
     "model_module_version": "1.5.0",
     "model_name": "DescriptionStyleModel",
     "state": {
      "_model_module": "@jupyter-widgets/controls",
      "_model_module_version": "1.5.0",
      "_model_name": "DescriptionStyleModel",
      "_view_count": null,
      "_view_module": "@jupyter-widgets/base",
      "_view_module_version": "1.2.0",
      "_view_name": "StyleView",
      "description_width": ""
     }
    },
    "4b9fb0148aa74f21beea81595ddf44dc": {
     "model_module": "@jupyter-widgets/base",
     "model_module_version": "1.2.0",
     "model_name": "LayoutModel",
     "state": {
      "_model_module": "@jupyter-widgets/base",
      "_model_module_version": "1.2.0",
      "_model_name": "LayoutModel",
      "_view_count": null,
      "_view_module": "@jupyter-widgets/base",
      "_view_module_version": "1.2.0",
      "_view_name": "LayoutView",
      "align_content": null,
      "align_items": null,
      "align_self": null,
      "border": null,
      "bottom": null,
      "display": null,
      "flex": null,
      "flex_flow": null,
      "grid_area": null,
      "grid_auto_columns": null,
      "grid_auto_flow": null,
      "grid_auto_rows": null,
      "grid_column": null,
      "grid_gap": null,
      "grid_row": null,
      "grid_template_areas": null,
      "grid_template_columns": null,
      "grid_template_rows": null,
      "height": null,
      "justify_content": null,
      "justify_items": null,
      "left": null,
      "margin": null,
      "max_height": null,
      "max_width": null,
      "min_height": null,
      "min_width": null,
      "object_fit": null,
      "object_position": null,
      "order": null,
      "overflow": null,
      "overflow_x": null,
      "overflow_y": null,
      "padding": null,
      "right": null,
      "top": null,
      "visibility": null,
      "width": null
     }
    },
    "4c2085eb5d704d0ba5849066823e483d": {
     "model_module": "@jupyter-widgets/base",
     "model_module_version": "1.2.0",
     "model_name": "LayoutModel",
     "state": {
      "_model_module": "@jupyter-widgets/base",
      "_model_module_version": "1.2.0",
      "_model_name": "LayoutModel",
      "_view_count": null,
      "_view_module": "@jupyter-widgets/base",
      "_view_module_version": "1.2.0",
      "_view_name": "LayoutView",
      "align_content": null,
      "align_items": null,
      "align_self": null,
      "border": null,
      "bottom": null,
      "display": null,
      "flex": null,
      "flex_flow": null,
      "grid_area": null,
      "grid_auto_columns": null,
      "grid_auto_flow": null,
      "grid_auto_rows": null,
      "grid_column": null,
      "grid_gap": null,
      "grid_row": null,
      "grid_template_areas": null,
      "grid_template_columns": null,
      "grid_template_rows": null,
      "height": null,
      "justify_content": null,
      "justify_items": null,
      "left": null,
      "margin": null,
      "max_height": null,
      "max_width": null,
      "min_height": null,
      "min_width": null,
      "object_fit": null,
      "object_position": null,
      "order": null,
      "overflow": null,
      "overflow_x": null,
      "overflow_y": null,
      "padding": null,
      "right": null,
      "top": null,
      "visibility": null,
      "width": null
     }
    },
    "4caed1221f334636bdf51874181187bb": {
     "model_module": "@jupyter-widgets/controls",
     "model_module_version": "1.5.0",
     "model_name": "DescriptionStyleModel",
     "state": {
      "_model_module": "@jupyter-widgets/controls",
      "_model_module_version": "1.5.0",
      "_model_name": "DescriptionStyleModel",
      "_view_count": null,
      "_view_module": "@jupyter-widgets/base",
      "_view_module_version": "1.2.0",
      "_view_name": "StyleView",
      "description_width": ""
     }
    },
    "4cd5585e8ebc4e9795448ed0c73170e6": {
     "model_module": "@jupyter-widgets/base",
     "model_module_version": "1.2.0",
     "model_name": "LayoutModel",
     "state": {
      "_model_module": "@jupyter-widgets/base",
      "_model_module_version": "1.2.0",
      "_model_name": "LayoutModel",
      "_view_count": null,
      "_view_module": "@jupyter-widgets/base",
      "_view_module_version": "1.2.0",
      "_view_name": "LayoutView",
      "align_content": null,
      "align_items": null,
      "align_self": null,
      "border": null,
      "bottom": null,
      "display": null,
      "flex": null,
      "flex_flow": null,
      "grid_area": null,
      "grid_auto_columns": null,
      "grid_auto_flow": null,
      "grid_auto_rows": null,
      "grid_column": null,
      "grid_gap": null,
      "grid_row": null,
      "grid_template_areas": null,
      "grid_template_columns": null,
      "grid_template_rows": null,
      "height": null,
      "justify_content": null,
      "justify_items": null,
      "left": null,
      "margin": null,
      "max_height": null,
      "max_width": null,
      "min_height": null,
      "min_width": null,
      "object_fit": null,
      "object_position": null,
      "order": null,
      "overflow": null,
      "overflow_x": null,
      "overflow_y": null,
      "padding": null,
      "right": null,
      "top": null,
      "visibility": null,
      "width": null
     }
    },
    "4ffb125268ae43039ce7ff8a4cd561bb": {
     "model_module": "@jupyter-widgets/base",
     "model_module_version": "1.2.0",
     "model_name": "LayoutModel",
     "state": {
      "_model_module": "@jupyter-widgets/base",
      "_model_module_version": "1.2.0",
      "_model_name": "LayoutModel",
      "_view_count": null,
      "_view_module": "@jupyter-widgets/base",
      "_view_module_version": "1.2.0",
      "_view_name": "LayoutView",
      "align_content": null,
      "align_items": null,
      "align_self": null,
      "border": null,
      "bottom": null,
      "display": null,
      "flex": null,
      "flex_flow": null,
      "grid_area": null,
      "grid_auto_columns": null,
      "grid_auto_flow": null,
      "grid_auto_rows": null,
      "grid_column": null,
      "grid_gap": null,
      "grid_row": null,
      "grid_template_areas": null,
      "grid_template_columns": null,
      "grid_template_rows": null,
      "height": null,
      "justify_content": null,
      "justify_items": null,
      "left": null,
      "margin": null,
      "max_height": null,
      "max_width": null,
      "min_height": null,
      "min_width": null,
      "object_fit": null,
      "object_position": null,
      "order": null,
      "overflow": null,
      "overflow_x": null,
      "overflow_y": null,
      "padding": null,
      "right": null,
      "top": null,
      "visibility": null,
      "width": null
     }
    },
    "5402dc772faa425ca21a28e1c8766e44": {
     "model_module": "@jupyter-widgets/controls",
     "model_module_version": "1.5.0",
     "model_name": "HTMLModel",
     "state": {
      "_dom_classes": [],
      "_model_module": "@jupyter-widgets/controls",
      "_model_module_version": "1.5.0",
      "_model_name": "HTMLModel",
      "_view_count": null,
      "_view_module": "@jupyter-widgets/controls",
      "_view_module_version": "1.5.0",
      "_view_name": "HTMLView",
      "description": "",
      "description_tooltip": null,
      "layout": "IPY_MODEL_3b989233f7be4d7baeb4242e1c761401",
      "placeholder": "​",
      "style": "IPY_MODEL_766b20a67ba1451688dc0a964462ef01",
      "value": " 446k/446k [00:00&lt;00:00, 682kB/s]"
     }
    },
    "5672a9a34d9f4dbbba081b811d74de41": {
     "model_module": "@jupyter-widgets/base",
     "model_module_version": "1.2.0",
     "model_name": "LayoutModel",
     "state": {
      "_model_module": "@jupyter-widgets/base",
      "_model_module_version": "1.2.0",
      "_model_name": "LayoutModel",
      "_view_count": null,
      "_view_module": "@jupyter-widgets/base",
      "_view_module_version": "1.2.0",
      "_view_name": "LayoutView",
      "align_content": null,
      "align_items": null,
      "align_self": null,
      "border": null,
      "bottom": null,
      "display": null,
      "flex": null,
      "flex_flow": null,
      "grid_area": null,
      "grid_auto_columns": null,
      "grid_auto_flow": null,
      "grid_auto_rows": null,
      "grid_column": null,
      "grid_gap": null,
      "grid_row": null,
      "grid_template_areas": null,
      "grid_template_columns": null,
      "grid_template_rows": null,
      "height": null,
      "justify_content": null,
      "justify_items": null,
      "left": null,
      "margin": null,
      "max_height": null,
      "max_width": null,
      "min_height": null,
      "min_width": null,
      "object_fit": null,
      "object_position": null,
      "order": null,
      "overflow": null,
      "overflow_x": null,
      "overflow_y": null,
      "padding": null,
      "right": null,
      "top": null,
      "visibility": null,
      "width": null
     }
    },
    "5e5662ccd098435ba5cba5da6c58024e": {
     "model_module": "@jupyter-widgets/base",
     "model_module_version": "1.2.0",
     "model_name": "LayoutModel",
     "state": {
      "_model_module": "@jupyter-widgets/base",
      "_model_module_version": "1.2.0",
      "_model_name": "LayoutModel",
      "_view_count": null,
      "_view_module": "@jupyter-widgets/base",
      "_view_module_version": "1.2.0",
      "_view_name": "LayoutView",
      "align_content": null,
      "align_items": null,
      "align_self": null,
      "border": null,
      "bottom": null,
      "display": null,
      "flex": null,
      "flex_flow": null,
      "grid_area": null,
      "grid_auto_columns": null,
      "grid_auto_flow": null,
      "grid_auto_rows": null,
      "grid_column": null,
      "grid_gap": null,
      "grid_row": null,
      "grid_template_areas": null,
      "grid_template_columns": null,
      "grid_template_rows": null,
      "height": null,
      "justify_content": null,
      "justify_items": null,
      "left": null,
      "margin": null,
      "max_height": null,
      "max_width": null,
      "min_height": null,
      "min_width": null,
      "object_fit": null,
      "object_position": null,
      "order": null,
      "overflow": null,
      "overflow_x": null,
      "overflow_y": null,
      "padding": null,
      "right": null,
      "top": null,
      "visibility": null,
      "width": null
     }
    },
    "6e5a1f956b1041afa004643391559f78": {
     "model_module": "@jupyter-widgets/controls",
     "model_module_version": "1.5.0",
     "model_name": "HTMLModel",
     "state": {
      "_dom_classes": [],
      "_model_module": "@jupyter-widgets/controls",
      "_model_module_version": "1.5.0",
      "_model_name": "HTMLModel",
      "_view_count": null,
      "_view_module": "@jupyter-widgets/controls",
      "_view_module_version": "1.5.0",
      "_view_name": "HTMLView",
      "description": "",
      "description_tooltip": null,
      "layout": "IPY_MODEL_8404429b9caf482fa64a9d301ae01596",
      "placeholder": "​",
      "style": "IPY_MODEL_c7645fae4e6747dfa40bfc2b7f29b14f",
      "value": " 523M/523M [00:10&lt;00:00, 54.2MB/s]"
     }
    },
    "7507862ef38540b4820df26660889b7a": {
     "model_module": "@jupyter-widgets/controls",
     "model_module_version": "1.5.0",
     "model_name": "HTMLModel",
     "state": {
      "_dom_classes": [],
      "_model_module": "@jupyter-widgets/controls",
      "_model_module_version": "1.5.0",
      "_model_name": "HTMLModel",
      "_view_count": null,
      "_view_module": "@jupyter-widgets/controls",
      "_view_module_version": "1.5.0",
      "_view_name": "HTMLView",
      "description": "",
      "description_tooltip": null,
      "layout": "IPY_MODEL_4b9fb0148aa74f21beea81595ddf44dc",
      "placeholder": "​",
      "style": "IPY_MODEL_cc7ba173d58f4ee09e00f0358f22f24e",
      "value": "Downloading: 100%"
     }
    },
    "766b20a67ba1451688dc0a964462ef01": {
     "model_module": "@jupyter-widgets/controls",
     "model_module_version": "1.5.0",
     "model_name": "DescriptionStyleModel",
     "state": {
      "_model_module": "@jupyter-widgets/controls",
      "_model_module_version": "1.5.0",
      "_model_name": "DescriptionStyleModel",
      "_view_count": null,
      "_view_module": "@jupyter-widgets/base",
      "_view_module_version": "1.2.0",
      "_view_name": "StyleView",
      "description_width": ""
     }
    },
    "8404429b9caf482fa64a9d301ae01596": {
     "model_module": "@jupyter-widgets/base",
     "model_module_version": "1.2.0",
     "model_name": "LayoutModel",
     "state": {
      "_model_module": "@jupyter-widgets/base",
      "_model_module_version": "1.2.0",
      "_model_name": "LayoutModel",
      "_view_count": null,
      "_view_module": "@jupyter-widgets/base",
      "_view_module_version": "1.2.0",
      "_view_name": "LayoutView",
      "align_content": null,
      "align_items": null,
      "align_self": null,
      "border": null,
      "bottom": null,
      "display": null,
      "flex": null,
      "flex_flow": null,
      "grid_area": null,
      "grid_auto_columns": null,
      "grid_auto_flow": null,
      "grid_auto_rows": null,
      "grid_column": null,
      "grid_gap": null,
      "grid_row": null,
      "grid_template_areas": null,
      "grid_template_columns": null,
      "grid_template_rows": null,
      "height": null,
      "justify_content": null,
      "justify_items": null,
      "left": null,
      "margin": null,
      "max_height": null,
      "max_width": null,
      "min_height": null,
      "min_width": null,
      "object_fit": null,
      "object_position": null,
      "order": null,
      "overflow": null,
      "overflow_x": null,
      "overflow_y": null,
      "padding": null,
      "right": null,
      "top": null,
      "visibility": null,
      "width": null
     }
    },
    "8b6a6bd5856348f99c7b32af43a33aff": {
     "model_module": "@jupyter-widgets/controls",
     "model_module_version": "1.5.0",
     "model_name": "ProgressStyleModel",
     "state": {
      "_model_module": "@jupyter-widgets/controls",
      "_model_module_version": "1.5.0",
      "_model_name": "ProgressStyleModel",
      "_view_count": null,
      "_view_module": "@jupyter-widgets/base",
      "_view_module_version": "1.2.0",
      "_view_name": "StyleView",
      "bar_color": null,
      "description_width": ""
     }
    },
    "9addbd65ec4b4777abad73a52b69fca0": {
     "model_module": "@jupyter-widgets/controls",
     "model_module_version": "1.5.0",
     "model_name": "ProgressStyleModel",
     "state": {
      "_model_module": "@jupyter-widgets/controls",
      "_model_module_version": "1.5.0",
      "_model_name": "ProgressStyleModel",
      "_view_count": null,
      "_view_module": "@jupyter-widgets/base",
      "_view_module_version": "1.2.0",
      "_view_name": "StyleView",
      "bar_color": null,
      "description_width": ""
     }
    },
    "9ce5cc597fb242f5b94310b2982c7905": {
     "model_module": "@jupyter-widgets/controls",
     "model_module_version": "1.5.0",
     "model_name": "DescriptionStyleModel",
     "state": {
      "_model_module": "@jupyter-widgets/controls",
      "_model_module_version": "1.5.0",
      "_model_name": "DescriptionStyleModel",
      "_view_count": null,
      "_view_module": "@jupyter-widgets/base",
      "_view_module_version": "1.2.0",
      "_view_name": "StyleView",
      "description_width": ""
     }
    },
    "b68c44b86b144498acc056a72964dc5f": {
     "model_module": "@jupyter-widgets/base",
     "model_module_version": "1.2.0",
     "model_name": "LayoutModel",
     "state": {
      "_model_module": "@jupyter-widgets/base",
      "_model_module_version": "1.2.0",
      "_model_name": "LayoutModel",
      "_view_count": null,
      "_view_module": "@jupyter-widgets/base",
      "_view_module_version": "1.2.0",
      "_view_name": "LayoutView",
      "align_content": null,
      "align_items": null,
      "align_self": null,
      "border": null,
      "bottom": null,
      "display": null,
      "flex": null,
      "flex_flow": null,
      "grid_area": null,
      "grid_auto_columns": null,
      "grid_auto_flow": null,
      "grid_auto_rows": null,
      "grid_column": null,
      "grid_gap": null,
      "grid_row": null,
      "grid_template_areas": null,
      "grid_template_columns": null,
      "grid_template_rows": null,
      "height": null,
      "justify_content": null,
      "justify_items": null,
      "left": null,
      "margin": null,
      "max_height": null,
      "max_width": null,
      "min_height": null,
      "min_width": null,
      "object_fit": null,
      "object_position": null,
      "order": null,
      "overflow": null,
      "overflow_x": null,
      "overflow_y": null,
      "padding": null,
      "right": null,
      "top": null,
      "visibility": null,
      "width": null
     }
    },
    "c2cf46b9db9446d990350c0fe966ed60": {
     "model_module": "@jupyter-widgets/controls",
     "model_module_version": "1.5.0",
     "model_name": "HTMLModel",
     "state": {
      "_dom_classes": [],
      "_model_module": "@jupyter-widgets/controls",
      "_model_module_version": "1.5.0",
      "_model_name": "HTMLModel",
      "_view_count": null,
      "_view_module": "@jupyter-widgets/controls",
      "_view_module_version": "1.5.0",
      "_view_name": "HTMLView",
      "description": "",
      "description_tooltip": null,
      "layout": "IPY_MODEL_4c2085eb5d704d0ba5849066823e483d",
      "placeholder": "​",
      "style": "IPY_MODEL_47b7bf10ee204381bd3932f537706ec3",
      "value": "Downloading: 100%"
     }
    },
    "c53a02489f9a43f7a2fb0980c9aded34": {
     "model_module": "@jupyter-widgets/controls",
     "model_module_version": "1.5.0",
     "model_name": "DescriptionStyleModel",
     "state": {
      "_model_module": "@jupyter-widgets/controls",
      "_model_module_version": "1.5.0",
      "_model_name": "DescriptionStyleModel",
      "_view_count": null,
      "_view_module": "@jupyter-widgets/base",
      "_view_module_version": "1.2.0",
      "_view_name": "StyleView",
      "description_width": ""
     }
    },
    "c7645fae4e6747dfa40bfc2b7f29b14f": {
     "model_module": "@jupyter-widgets/controls",
     "model_module_version": "1.5.0",
     "model_name": "DescriptionStyleModel",
     "state": {
      "_model_module": "@jupyter-widgets/controls",
      "_model_module_version": "1.5.0",
      "_model_name": "DescriptionStyleModel",
      "_view_count": null,
      "_view_module": "@jupyter-widgets/base",
      "_view_module_version": "1.2.0",
      "_view_name": "StyleView",
      "description_width": ""
     }
    },
    "cc7ba173d58f4ee09e00f0358f22f24e": {
     "model_module": "@jupyter-widgets/controls",
     "model_module_version": "1.5.0",
     "model_name": "DescriptionStyleModel",
     "state": {
      "_model_module": "@jupyter-widgets/controls",
      "_model_module_version": "1.5.0",
      "_model_name": "DescriptionStyleModel",
      "_view_count": null,
      "_view_module": "@jupyter-widgets/base",
      "_view_module_version": "1.2.0",
      "_view_name": "StyleView",
      "description_width": ""
     }
    },
    "d6057c76902b43da87cca4ae3b9aa1e8": {
     "model_module": "@jupyter-widgets/controls",
     "model_module_version": "1.5.0",
     "model_name": "ProgressStyleModel",
     "state": {
      "_model_module": "@jupyter-widgets/controls",
      "_model_module_version": "1.5.0",
      "_model_name": "ProgressStyleModel",
      "_view_count": null,
      "_view_module": "@jupyter-widgets/base",
      "_view_module_version": "1.2.0",
      "_view_name": "StyleView",
      "bar_color": null,
      "description_width": ""
     }
    },
    "d9e227ef6e7d4446988aa217fb2ddba1": {
     "model_module": "@jupyter-widgets/controls",
     "model_module_version": "1.5.0",
     "model_name": "DescriptionStyleModel",
     "state": {
      "_model_module": "@jupyter-widgets/controls",
      "_model_module_version": "1.5.0",
      "_model_name": "DescriptionStyleModel",
      "_view_count": null,
      "_view_module": "@jupyter-widgets/base",
      "_view_module_version": "1.2.0",
      "_view_name": "StyleView",
      "description_width": ""
     }
    },
    "daf6110f63be443598cddb67cfee2d8e": {
     "model_module": "@jupyter-widgets/base",
     "model_module_version": "1.2.0",
     "model_name": "LayoutModel",
     "state": {
      "_model_module": "@jupyter-widgets/base",
      "_model_module_version": "1.2.0",
      "_model_name": "LayoutModel",
      "_view_count": null,
      "_view_module": "@jupyter-widgets/base",
      "_view_module_version": "1.2.0",
      "_view_name": "LayoutView",
      "align_content": null,
      "align_items": null,
      "align_self": null,
      "border": null,
      "bottom": null,
      "display": null,
      "flex": null,
      "flex_flow": null,
      "grid_area": null,
      "grid_auto_columns": null,
      "grid_auto_flow": null,
      "grid_auto_rows": null,
      "grid_column": null,
      "grid_gap": null,
      "grid_row": null,
      "grid_template_areas": null,
      "grid_template_columns": null,
      "grid_template_rows": null,
      "height": null,
      "justify_content": null,
      "justify_items": null,
      "left": null,
      "margin": null,
      "max_height": null,
      "max_width": null,
      "min_height": null,
      "min_width": null,
      "object_fit": null,
      "object_position": null,
      "order": null,
      "overflow": null,
      "overflow_x": null,
      "overflow_y": null,
      "padding": null,
      "right": null,
      "top": null,
      "visibility": null,
      "width": null
     }
    },
    "e6ae4739d2284457892638870fdd2421": {
     "model_module": "@jupyter-widgets/controls",
     "model_module_version": "1.5.0",
     "model_name": "FloatProgressModel",
     "state": {
      "_dom_classes": [],
      "_model_module": "@jupyter-widgets/controls",
      "_model_module_version": "1.5.0",
      "_model_name": "FloatProgressModel",
      "_view_count": null,
      "_view_module": "@jupyter-widgets/controls",
      "_view_module_version": "1.5.0",
      "_view_name": "ProgressView",
      "bar_style": "success",
      "description": "",
      "description_tooltip": null,
      "layout": "IPY_MODEL_b68c44b86b144498acc056a72964dc5f",
      "max": 1042301,
      "min": 0,
      "orientation": "horizontal",
      "style": "IPY_MODEL_f4677fdb1c5444a1bc0b414d1f60280a",
      "value": 1042301
     }
    },
    "ebca5789458640a492a3c6d6cbf9f060": {
     "model_module": "@jupyter-widgets/controls",
     "model_module_version": "1.5.0",
     "model_name": "FloatProgressModel",
     "state": {
      "_dom_classes": [],
      "_model_module": "@jupyter-widgets/controls",
      "_model_module_version": "1.5.0",
      "_model_name": "FloatProgressModel",
      "_view_count": null,
      "_view_module": "@jupyter-widgets/controls",
      "_view_module_version": "1.5.0",
      "_view_name": "ProgressView",
      "bar_style": "success",
      "description": "",
      "description_tooltip": null,
      "layout": "IPY_MODEL_1b07a92b683644c990182e96df6be116",
      "max": 665,
      "min": 0,
      "orientation": "horizontal",
      "style": "IPY_MODEL_9addbd65ec4b4777abad73a52b69fca0",
      "value": 665
     }
    },
    "f17fc026472c410ca5e3980671251553": {
     "model_module": "@jupyter-widgets/controls",
     "model_module_version": "1.5.0",
     "model_name": "HBoxModel",
     "state": {
      "_dom_classes": [],
      "_model_module": "@jupyter-widgets/controls",
      "_model_module_version": "1.5.0",
      "_model_name": "HBoxModel",
      "_view_count": null,
      "_view_module": "@jupyter-widgets/controls",
      "_view_module_version": "1.5.0",
      "_view_name": "HBoxView",
      "box_style": "",
      "children": [
       "IPY_MODEL_3896cfe691e6436a96239b6b12e1983c",
       "IPY_MODEL_ebca5789458640a492a3c6d6cbf9f060",
       "IPY_MODEL_1e1eaa3901d44443ae42be8742bc5153"
      ],
      "layout": "IPY_MODEL_2be8b0c4c74b4a2f999144ecd39d2320"
     }
    },
    "f4677fdb1c5444a1bc0b414d1f60280a": {
     "model_module": "@jupyter-widgets/controls",
     "model_module_version": "1.5.0",
     "model_name": "ProgressStyleModel",
     "state": {
      "_model_module": "@jupyter-widgets/controls",
      "_model_module_version": "1.5.0",
      "_model_name": "ProgressStyleModel",
      "_view_count": null,
      "_view_module": "@jupyter-widgets/base",
      "_view_module_version": "1.2.0",
      "_view_name": "StyleView",
      "bar_color": null,
      "description_width": ""
     }
    },
    "ffb59c5b040a468f90b015eadcc04d5f": {
     "model_module": "@jupyter-widgets/controls",
     "model_module_version": "1.5.0",
     "model_name": "HTMLModel",
     "state": {
      "_dom_classes": [],
      "_model_module": "@jupyter-widgets/controls",
      "_model_module_version": "1.5.0",
      "_model_name": "HTMLModel",
      "_view_count": null,
      "_view_module": "@jupyter-widgets/controls",
      "_view_module_version": "1.5.0",
      "_view_name": "HTMLView",
      "description": "",
      "description_tooltip": null,
      "layout": "IPY_MODEL_035b3121409a42ce903902cfb318eabd",
      "placeholder": "​",
      "style": "IPY_MODEL_9ce5cc597fb242f5b94310b2982c7905",
      "value": "Downloading: 100%"
     }
    }
   }
  }
 },
 "nbformat": 4,
 "nbformat_minor": 1
}
